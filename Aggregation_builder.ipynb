{
 "cells": [
  {
   "cell_type": "code",
   "execution_count": 1,
   "metadata": {
    "collapsed": true
   },
   "outputs": [],
   "source": [
    "import pandas as pd\n",
    "import names\n",
    "import random"
   ]
  },
  {
   "cell_type": "code",
   "execution_count": 4,
   "metadata": {
    "collapsed": true
   },
   "outputs": [],
   "source": [
    "bureaus = ['Administration (A)',\n",
    " 'African Affairs (AF)',\n",
    " 'Allowances (A/OPR/ALS)',\n",
    " 'Arms Control, Verification and Compliance (AVC)',\n",
    " 'Authentications',\n",
    " 'Budget and Planning (BP)',\n",
    " 'Chief Information Officer (CIO)',\n",
    " 'Chief Economist, of the Department',\n",
    " 'Chief of Staff',\n",
    " 'Civil Rights, Office of',\n",
    " 'Comptroller and Global Financial Services (CGFS)',\n",
    " 'Conflict and Stabilization Operations (CSO)',\n",
    " 'Consular Affairs (CA)',\n",
    " 'Counterterrorism (CT)',\n",
    " 'Democracy, Human Rights, and Labor (DRL)',\n",
    " 'Department Spokesperson',\n",
    " 'Diplomatic Reception Rooms',\n",
    " 'Diplomatic Security (DS)',\n",
    " 'Director General of the Foreign Service and Director of Human Resources (DGHR)',\n",
    " 'East Asian and Pacific Affairs (EAP)',\n",
    " 'Economic and Business Affairs (EB)',\n",
    " 'Educational and Cultural Affairs (ECA)',\n",
    " 'Energy Resources (ENR)',\n",
    " 'European and Eurasian Affairs (EUR)',\n",
    " 'Executive Secretariat (S/ES)',\n",
    " 'Foreign Assistance (F)',\n",
    " 'Foreign Missions (OFM)',\n",
    " 'Foreign Service Institute (FSI)',\n",
    " 'Global AIDS Coordinator (S/GAC)',\n",
    " 'Global Criminal Justice (GCJ)',\n",
    " 'Global Engagement Center(GEC)',\n",
    " 'Global Food Security',\n",
    " \"Global Women's Issues (S/GWI)\",\n",
    " 'Global Youth Issues (GYI)',\n",
    " 'Human Resources (DGHR)',\n",
    " 'Information Resource Management (IRM)',\n",
    " 'Inspector General (OIG)',\n",
    " 'Intelligence and Research (INR)',\n",
    " 'International Information Programs (IIP)',\n",
    " 'International Narcotics and Law Enforcement Affairs (INL)',\n",
    " 'International Organization Affairs (IO)',\n",
    " 'International Security and Nonproliferation (ISN)',\n",
    " 'Legal Adviser (L)',\n",
    " 'Legislative Affairs (H)',\n",
    " 'Management Policy, Rightsizing and Innovation (PRI)',\n",
    " 'Medical Services (MED)',\n",
    " 'Mission to the United Nations (USUN)',\n",
    " 'Near Eastern Affairs (NEA)',\n",
    " 'Oceans and International Environmental and Scientific Affairs(OES)',\n",
    " 'Office of Terrorism Finance and Economic Sanctions Policy',\n",
    " 'Ombudsman, Office of',\n",
    " 'Overseas Buildings Operations (OBO)',\n",
    " 'Policy, Planning, and Resources for Public Diplomacy and Public Affairs (PPR)',\n",
    " 'Policy Planning Staff (S/P)',\n",
    " 'Political-Military Affairs (PM)',\n",
    " 'Population, Refugees, and Migration (PRM)',\n",
    " 'Protocol (S/CPR)',\n",
    " 'Public Affairs (PA)',\n",
    " 'Quadrennial Diplomacy and Development Review (QDDR)',\n",
    " 'Science & Technology Adviser (STAS)',\n",
    " 'South and Central Asian Affairs (SCA)',\n",
    " 'Trafficking in Persons (TIP)',\n",
    " 'Western Hemisphere Affairs (WHA)']\n",
    "\n",
    "bureaus = [i for i in bureaus if '(' in i]\n",
    "\n",
    "acronyms = []\n",
    "for i in bureaus:\n",
    "    a = i.split('(')[1].split(')')[0]\n",
    "    acronyms.append(a)"
   ]
  },
  {
   "cell_type": "code",
   "execution_count": 15,
   "metadata": {
    "collapsed": false
   },
   "outputs": [
    {
     "data": {
      "text/plain": [
       "54"
      ]
     },
     "execution_count": 15,
     "metadata": {},
     "output_type": "execute_result"
    }
   ],
   "source": [
    "len(acronyms)"
   ]
  },
  {
   "cell_type": "code",
   "execution_count": 18,
   "metadata": {
    "collapsed": false
   },
   "outputs": [
    {
     "data": {
      "text/plain": [
       "3"
      ]
     },
     "execution_count": 18,
     "metadata": {},
     "output_type": "execute_result"
    }
   ],
   "source": [
    "len([i for i in acronyms if 'B' in i])"
   ]
  },
  {
   "cell_type": "code",
   "execution_count": 25,
   "metadata": {
    "collapsed": true
   },
   "outputs": [],
   "source": [
    "EEs = []\n",
    "for i in range(10000):\n",
    "    obj = {}\n",
    "    obj['Name'] = names.get_full_name()\n",
    "    obj['Bureau'] = random.choice(acronyms)\n",
    "    obj['Type'] = random.choice(['FS','CS','Contractor'])\n",
    "    obj['Emails Sent'] = random.randint(100,5000)\n",
    "    # add in some discrepancy due to the letter A in the bureau\n",
    "    if 'A' in obj['Bureau']:\n",
    "        obj['Emails Sent'] = random.randint(5000,10000)\n",
    "    # add in some discrepancy if B in bureau and EE type is FS\n",
    "    if 'A' in obj['Bureau']:\n",
    "        if obj['Type'] == 'FS':\n",
    "            obj['Emails Sent'] = random.randint(10000,50000)\n",
    "            # furthermore, lets say if the EE name starts with L they sent EVEN MORE!\n",
    "            if obj['Name'][0] == 'L':\n",
    "                obj['Emails Sent'] = random.randint(50000,250000)\n",
    "    EEs.append(obj)"
   ]
  },
  {
   "cell_type": "code",
   "execution_count": 26,
   "metadata": {
    "collapsed": true
   },
   "outputs": [],
   "source": [
    "df = pd.DataFrame.from_records(EEs)"
   ]
  },
  {
   "cell_type": "code",
   "execution_count": 27,
   "metadata": {
    "collapsed": false
   },
   "outputs": [],
   "source": [
    "df = df[['Bureau','Type','Name','Emails Sent']]"
   ]
  },
  {
   "cell_type": "code",
   "execution_count": 28,
   "metadata": {
    "collapsed": false
   },
   "outputs": [],
   "source": [
    "df.to_csv('Employee_Aggregation_Pivot.csv',index=False)"
   ]
  },
  {
   "cell_type": "code",
   "execution_count": null,
   "metadata": {
    "collapsed": true
   },
   "outputs": [],
   "source": []
  }
 ],
 "metadata": {
  "kernelspec": {
   "display_name": "Python 3",
   "language": "python",
   "name": "python3"
  },
  "language_info": {
   "codemirror_mode": {
    "name": "ipython",
    "version": 3
   },
   "file_extension": ".py",
   "mimetype": "text/x-python",
   "name": "python",
   "nbconvert_exporter": "python",
   "pygments_lexer": "ipython3",
   "version": "3.5.3"
  }
 },
 "nbformat": 4,
 "nbformat_minor": 0
}
