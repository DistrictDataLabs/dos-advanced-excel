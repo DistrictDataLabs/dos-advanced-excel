{
 "cells": [
  {
   "cell_type": "code",
   "execution_count": 2,
   "metadata": {},
   "outputs": [],
   "source": [
    "import pandas as pd\n",
    "from random import random, randint"
   ]
  },
  {
   "cell_type": "code",
   "execution_count": 3,
   "metadata": {},
   "outputs": [],
   "source": [
    "df = pd.read_csv('South_Sudan_States.csv')"
   ]
  },
  {
   "cell_type": "code",
   "execution_count": 9,
   "metadata": {},
   "outputs": [
    {
     "name": "stdout",
     "output_type": "stream",
     "text": [
      "There are 29 total states and 211 counties in South Sudan\n"
     ]
    }
   ],
   "source": [
    "count_counties = len(df.County.unique())\n",
    "count_states = len(df.State.unique())\n",
    "print('There are {0} total states and {1} counties in South Sudan'.format(count_states, count_counties))"
   ]
  },
  {
   "cell_type": "code",
   "execution_count": 10,
   "metadata": {},
   "outputs": [],
   "source": [
    "counties = {}\n",
    "for county in df.County.unique():\n",
    "    counties[county] = {'rainfall': random(), 'population': random(), 'infrastructure': random()}"
   ]
  },
  {
   "cell_type": "code",
   "execution_count": 186,
   "metadata": {},
   "outputs": [],
   "source": [
    "def gen_year(state, county, year):\n",
    "    obj = {}\n",
    "    obj['State'] = state\n",
    "    obj['County'] = county\n",
    "    obj['Year'] = year\n",
    "    \n",
    "    county_obj = counties[county]\n",
    "    rain_adj = county_obj['rainfall']\n",
    "    pop_adj = county_obj['population']\n",
    "    inf_adj = county_obj['infrastructure']\n",
    "    \n",
    "    obj['Rainfall'] = round(rain_adj*70 + random()*10,2)\n",
    "    obj['Population'] = int(round(pop_adj*60000 + random()*5000,0))\n",
    "    obj['Infrastructure'] = int(round(inf_adj*500 + random()*100,0))\n",
    "    \n",
    "    return obj"
   ]
  },
  {
   "cell_type": "code",
   "execution_count": 187,
   "metadata": {},
   "outputs": [],
   "source": [
    "years = range(2000, 2019)\n",
    "\n",
    "generated = []\n",
    "\n",
    "for kk, vv in df.iterrows():\n",
    "    for i in years:\n",
    "        obj = gen_year(vv.State, vv.County, i)\n",
    "        generated.append(obj)"
   ]
  },
  {
   "cell_type": "code",
   "execution_count": 188,
   "metadata": {},
   "outputs": [],
   "source": [
    "output = pd.DataFrame.from_records(generated)\n",
    "output = output[['Year','State','County','Population','Rainfall','Infrastructure']]"
   ]
  },
  {
   "cell_type": "code",
   "execution_count": 189,
   "metadata": {},
   "outputs": [],
   "source": [
    "output.to_csv('../Class Files/Scenario 4/South_Sudan_Regional_Report.csv', index=False)"
   ]
  },
  {
   "cell_type": "markdown",
   "metadata": {},
   "source": [
    "# Checking"
   ]
  },
  {
   "cell_type": "code",
   "execution_count": 191,
   "metadata": {},
   "outputs": [],
   "source": [
    "rain = pd.DataFrame(output.groupby('County').Rainfall.mean())\n",
    "pop = pd.DataFrame(output.groupby('County').Population.mean())\n",
    "pop = pop.reset_index()\n",
    "pop = pop.set_index('County')"
   ]
  },
  {
   "cell_type": "code",
   "execution_count": 192,
   "metadata": {},
   "outputs": [],
   "source": [
    "rain = rain.reset_index().sort_values('Rainfall',ascending=False)\n",
    "comb = rain.join(pop, on='County')"
   ]
  },
  {
   "cell_type": "code",
   "execution_count": 193,
   "metadata": {},
   "outputs": [
    {
     "data": {
      "text/html": [
       "<div>\n",
       "<style scoped>\n",
       "    .dataframe tbody tr th:only-of-type {\n",
       "        vertical-align: middle;\n",
       "    }\n",
       "\n",
       "    .dataframe tbody tr th {\n",
       "        vertical-align: top;\n",
       "    }\n",
       "\n",
       "    .dataframe thead th {\n",
       "        text-align: right;\n",
       "    }\n",
       "</style>\n",
       "<table border=\"1\" class=\"dataframe\">\n",
       "  <thead>\n",
       "    <tr style=\"text-align: right;\">\n",
       "      <th></th>\n",
       "      <th>Rainfall</th>\n",
       "    </tr>\n",
       "  </thead>\n",
       "  <tbody>\n",
       "    <tr>\n",
       "      <th>count</th>\n",
       "      <td>211.000000</td>\n",
       "    </tr>\n",
       "    <tr>\n",
       "      <th>mean</th>\n",
       "      <td>39.657294</td>\n",
       "    </tr>\n",
       "    <tr>\n",
       "      <th>std</th>\n",
       "      <td>20.726121</td>\n",
       "    </tr>\n",
       "    <tr>\n",
       "      <th>min</th>\n",
       "      <td>4.110526</td>\n",
       "    </tr>\n",
       "    <tr>\n",
       "      <th>25%</th>\n",
       "      <td>20.632895</td>\n",
       "    </tr>\n",
       "    <tr>\n",
       "      <th>50%</th>\n",
       "      <td>39.277895</td>\n",
       "    </tr>\n",
       "    <tr>\n",
       "      <th>75%</th>\n",
       "      <td>56.819211</td>\n",
       "    </tr>\n",
       "    <tr>\n",
       "      <th>max</th>\n",
       "      <td>75.011053</td>\n",
       "    </tr>\n",
       "  </tbody>\n",
       "</table>\n",
       "</div>"
      ],
      "text/plain": [
       "         Rainfall\n",
       "count  211.000000\n",
       "mean    39.657294\n",
       "std     20.726121\n",
       "min      4.110526\n",
       "25%     20.632895\n",
       "50%     39.277895\n",
       "75%     56.819211\n",
       "max     75.011053"
      ]
     },
     "execution_count": 193,
     "metadata": {},
     "output_type": "execute_result"
    }
   ],
   "source": [
    "rain.describe()"
   ]
  },
  {
   "cell_type": "code",
   "execution_count": 194,
   "metadata": {},
   "outputs": [
    {
     "data": {
      "text/html": [
       "<div>\n",
       "<style scoped>\n",
       "    .dataframe tbody tr th:only-of-type {\n",
       "        vertical-align: middle;\n",
       "    }\n",
       "\n",
       "    .dataframe tbody tr th {\n",
       "        vertical-align: top;\n",
       "    }\n",
       "\n",
       "    .dataframe thead th {\n",
       "        text-align: right;\n",
       "    }\n",
       "</style>\n",
       "<table border=\"1\" class=\"dataframe\">\n",
       "  <thead>\n",
       "    <tr style=\"text-align: right;\">\n",
       "      <th></th>\n",
       "      <th>County</th>\n",
       "      <th>Rainfall</th>\n",
       "      <th>Population</th>\n",
       "    </tr>\n",
       "  </thead>\n",
       "  <tbody>\n",
       "    <tr>\n",
       "      <th>60</th>\n",
       "      <td>Geria</td>\n",
       "      <td>74.308421</td>\n",
       "      <td>49468.157895</td>\n",
       "    </tr>\n",
       "    <tr>\n",
       "      <th>156</th>\n",
       "      <td>Panyok</td>\n",
       "      <td>74.118947</td>\n",
       "      <td>53417.842105</td>\n",
       "    </tr>\n",
       "    <tr>\n",
       "      <th>56</th>\n",
       "      <td>Duony</td>\n",
       "      <td>73.387895</td>\n",
       "      <td>62265.578947</td>\n",
       "    </tr>\n",
       "    <tr>\n",
       "      <th>192</th>\n",
       "      <td>Waat</td>\n",
       "      <td>73.146316</td>\n",
       "      <td>56979.157895</td>\n",
       "    </tr>\n",
       "    <tr>\n",
       "      <th>89</th>\n",
       "      <td>Korok East</td>\n",
       "      <td>73.094737</td>\n",
       "      <td>49745.789474</td>\n",
       "    </tr>\n",
       "    <tr>\n",
       "      <th>84</th>\n",
       "      <td>Kodok</td>\n",
       "      <td>72.533684</td>\n",
       "      <td>51814.368421</td>\n",
       "    </tr>\n",
       "    <tr>\n",
       "      <th>17</th>\n",
       "      <td>Anyar Nguan</td>\n",
       "      <td>72.401053</td>\n",
       "      <td>51728.210526</td>\n",
       "    </tr>\n",
       "    <tr>\n",
       "      <th>20</th>\n",
       "      <td>Apuk South</td>\n",
       "      <td>70.311053</td>\n",
       "      <td>54870.842105</td>\n",
       "    </tr>\n",
       "  </tbody>\n",
       "</table>\n",
       "</div>"
      ],
      "text/plain": [
       "          County   Rainfall    Population\n",
       "60         Geria  74.308421  49468.157895\n",
       "156       Panyok  74.118947  53417.842105\n",
       "56         Duony  73.387895  62265.578947\n",
       "192         Waat  73.146316  56979.157895\n",
       "89    Korok East  73.094737  49745.789474\n",
       "84         Kodok  72.533684  51814.368421\n",
       "17   Anyar Nguan  72.401053  51728.210526\n",
       "20    Apuk South  70.311053  54870.842105"
      ]
     },
     "execution_count": 194,
     "metadata": {},
     "output_type": "execute_result"
    }
   ],
   "source": [
    "comb[(comb['Rainfall'] > 70) & (comb['Population'] > 48556)]"
   ]
  },
  {
   "cell_type": "code",
   "execution_count": 195,
   "metadata": {},
   "outputs": [
    {
     "data": {
      "text/html": [
       "<div>\n",
       "<style scoped>\n",
       "    .dataframe tbody tr th:only-of-type {\n",
       "        vertical-align: middle;\n",
       "    }\n",
       "\n",
       "    .dataframe tbody tr th {\n",
       "        vertical-align: top;\n",
       "    }\n",
       "\n",
       "    .dataframe thead th {\n",
       "        text-align: right;\n",
       "    }\n",
       "</style>\n",
       "<table border=\"1\" class=\"dataframe\">\n",
       "  <thead>\n",
       "    <tr style=\"text-align: right;\">\n",
       "      <th></th>\n",
       "      <th>County</th>\n",
       "      <th>Rainfall</th>\n",
       "      <th>Population</th>\n",
       "    </tr>\n",
       "  </thead>\n",
       "  <tbody>\n",
       "    <tr>\n",
       "      <th>125</th>\n",
       "      <td>Manyang-Ngok</td>\n",
       "      <td>75.011053</td>\n",
       "      <td>10544.157895</td>\n",
       "    </tr>\n",
       "    <tr>\n",
       "      <th>60</th>\n",
       "      <td>Geria</td>\n",
       "      <td>74.308421</td>\n",
       "      <td>49468.157895</td>\n",
       "    </tr>\n",
       "    <tr>\n",
       "      <th>156</th>\n",
       "      <td>Panyok</td>\n",
       "      <td>74.118947</td>\n",
       "      <td>53417.842105</td>\n",
       "    </tr>\n",
       "    <tr>\n",
       "      <th>99</th>\n",
       "      <td>Lakama'di County</td>\n",
       "      <td>73.642632</td>\n",
       "      <td>5619.368421</td>\n",
       "    </tr>\n",
       "    <tr>\n",
       "      <th>56</th>\n",
       "      <td>Duony</td>\n",
       "      <td>73.387895</td>\n",
       "      <td>62265.578947</td>\n",
       "    </tr>\n",
       "    <tr>\n",
       "      <th>192</th>\n",
       "      <td>Waat</td>\n",
       "      <td>73.146316</td>\n",
       "      <td>56979.157895</td>\n",
       "    </tr>\n",
       "    <tr>\n",
       "      <th>89</th>\n",
       "      <td>Korok East</td>\n",
       "      <td>73.094737</td>\n",
       "      <td>49745.789474</td>\n",
       "    </tr>\n",
       "    <tr>\n",
       "      <th>97</th>\n",
       "      <td>Lafon</td>\n",
       "      <td>73.015263</td>\n",
       "      <td>18752.842105</td>\n",
       "    </tr>\n",
       "    <tr>\n",
       "      <th>197</th>\n",
       "      <td>Witto County</td>\n",
       "      <td>72.732632</td>\n",
       "      <td>22398.000000</td>\n",
       "    </tr>\n",
       "    <tr>\n",
       "      <th>84</th>\n",
       "      <td>Kodok</td>\n",
       "      <td>72.533684</td>\n",
       "      <td>51814.368421</td>\n",
       "    </tr>\n",
       "    <tr>\n",
       "      <th>17</th>\n",
       "      <td>Anyar Nguan</td>\n",
       "      <td>72.401053</td>\n",
       "      <td>51728.210526</td>\n",
       "    </tr>\n",
       "    <tr>\n",
       "      <th>15</th>\n",
       "      <td>Aluak-aluak</td>\n",
       "      <td>72.282105</td>\n",
       "      <td>10948.315789</td>\n",
       "    </tr>\n",
       "    <tr>\n",
       "      <th>76</th>\n",
       "      <td>Kauto</td>\n",
       "      <td>71.597895</td>\n",
       "      <td>2659.315789</td>\n",
       "    </tr>\n",
       "    <tr>\n",
       "      <th>61</th>\n",
       "      <td>Gomjuer East</td>\n",
       "      <td>71.411053</td>\n",
       "      <td>35231.842105</td>\n",
       "    </tr>\n",
       "    <tr>\n",
       "      <th>35</th>\n",
       "      <td>Bahr El Grindi County.</td>\n",
       "      <td>71.033684</td>\n",
       "      <td>22584.263158</td>\n",
       "    </tr>\n",
       "    <tr>\n",
       "      <th>209</th>\n",
       "      <td>matangai county</td>\n",
       "      <td>70.641579</td>\n",
       "      <td>38406.842105</td>\n",
       "    </tr>\n",
       "    <tr>\n",
       "      <th>5</th>\n",
       "      <td>Aguok North</td>\n",
       "      <td>70.450526</td>\n",
       "      <td>28330.000000</td>\n",
       "    </tr>\n",
       "    <tr>\n",
       "      <th>20</th>\n",
       "      <td>Apuk South</td>\n",
       "      <td>70.311053</td>\n",
       "      <td>54870.842105</td>\n",
       "    </tr>\n",
       "  </tbody>\n",
       "</table>\n",
       "</div>"
      ],
      "text/plain": [
       "                     County   Rainfall    Population\n",
       "125            Manyang-Ngok  75.011053  10544.157895\n",
       "60                    Geria  74.308421  49468.157895\n",
       "156                  Panyok  74.118947  53417.842105\n",
       "99         Lakama'di County  73.642632   5619.368421\n",
       "56                    Duony  73.387895  62265.578947\n",
       "192                    Waat  73.146316  56979.157895\n",
       "89               Korok East  73.094737  49745.789474\n",
       "97                    Lafon  73.015263  18752.842105\n",
       "197            Witto County  72.732632  22398.000000\n",
       "84                    Kodok  72.533684  51814.368421\n",
       "17              Anyar Nguan  72.401053  51728.210526\n",
       "15              Aluak-aluak  72.282105  10948.315789\n",
       "76                    Kauto  71.597895   2659.315789\n",
       "61             Gomjuer East  71.411053  35231.842105\n",
       "35   Bahr El Grindi County.  71.033684  22584.263158\n",
       "209         matangai county  70.641579  38406.842105\n",
       "5               Aguok North  70.450526  28330.000000\n",
       "20               Apuk South  70.311053  54870.842105"
      ]
     },
     "execution_count": 195,
     "metadata": {},
     "output_type": "execute_result"
    }
   ],
   "source": [
    "comb[(comb['Rainfall'] > 70)]"
   ]
  },
  {
   "cell_type": "code",
   "execution_count": null,
   "metadata": {},
   "outputs": [],
   "source": []
  }
 ],
 "metadata": {
  "kernelspec": {
   "display_name": "Python 3",
   "language": "python",
   "name": "python3"
  },
  "language_info": {
   "codemirror_mode": {
    "name": "ipython",
    "version": 3
   },
   "file_extension": ".py",
   "mimetype": "text/x-python",
   "name": "python",
   "nbconvert_exporter": "python",
   "pygments_lexer": "ipython3",
   "version": "3.5.3"
  }
 },
 "nbformat": 4,
 "nbformat_minor": 2
}
