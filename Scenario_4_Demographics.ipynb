{
 "cells": [
  {
   "cell_type": "code",
   "execution_count": 2,
   "metadata": {},
   "outputs": [],
   "source": [
    "import pandas as pd\n",
    "from random import random, randint\n",
    "import json"
   ]
  },
  {
   "cell_type": "code",
   "execution_count": 3,
   "metadata": {},
   "outputs": [],
   "source": [
    "with open('gadm36_SSD_2.json','r') as f:\n",
    "    t = f.read()\n",
    "topo = json.loads(t)"
   ]
  },
  {
   "cell_type": "code",
   "execution_count": 5,
   "metadata": {},
   "outputs": [],
   "source": [
    "df = pd.read_csv('South_Sudan_States.csv')"
   ]
  },
  {
   "cell_type": "code",
   "execution_count": 12,
   "metadata": {},
   "outputs": [],
   "source": [
    "geoms = []\n",
    "for geom in topo['objects']['gadm36_SSD_2']['geometries']:\n",
    "    geoms.append(geom['properties'])\n",
    "    \n",
    "geo = pd.DataFrame(geoms)[['NAME_1','NAME_2']].drop_duplicates()\n",
    "\n",
    "geo['State'] = geo['NAME_1']\n",
    "geo['County'] = geo['NAME_2']\n",
    "\n",
    "geo = geo[['State','County']].drop_duplicates()"
   ]
  },
  {
   "cell_type": "code",
   "execution_count": 14,
   "metadata": {},
   "outputs": [],
   "source": [
    "df = geo"
   ]
  },
  {
   "cell_type": "code",
   "execution_count": 15,
   "metadata": {},
   "outputs": [
    {
     "name": "stdout",
     "output_type": "stream",
     "text": [
      "There are 10 total states and 45 counties in South Sudan\n"
     ]
    }
   ],
   "source": [
    "count_counties = len(df.County.unique())\n",
    "count_states = len(df.State.unique())\n",
    "print('There are {0} total states and {1} counties in South Sudan'.format(count_states, count_counties))"
   ]
  },
  {
   "cell_type": "code",
   "execution_count": 27,
   "metadata": {},
   "outputs": [],
   "source": [
    "counties = {}\n",
    "for county in df.County.unique():\n",
    "    counties[county] = {'rainfall': random(), 'population': random(), 'infrastructure': random()}"
   ]
  },
  {
   "cell_type": "code",
   "execution_count": 35,
   "metadata": {},
   "outputs": [],
   "source": [
    "def gen_year(state, county, year):\n",
    "    obj = {}\n",
    "    obj['State'] = state\n",
    "    obj['County'] = county\n",
    "    obj['Year'] = year\n",
    "    \n",
    "    county_obj = counties[county]\n",
    "    rain_adj = county_obj['rainfall']\n",
    "    pop_adj = county_obj['population']\n",
    "    inf_adj = county_obj['infrastructure']\n",
    "    \n",
    "    obj['Rainfall'] = round(rain_adj*70 + random()*10,2)\n",
    "    obj['Population'] = int(round(pop_adj*500000 + random()*15000,0))\n",
    "    obj['Infrastructure'] = int(round(inf_adj*500 + random()*100,0))\n",
    "    \n",
    "    return obj"
   ]
  },
  {
   "cell_type": "code",
   "execution_count": 36,
   "metadata": {},
   "outputs": [],
   "source": [
    "years = range(2000, 2019)\n",
    "\n",
    "generated = []\n",
    "\n",
    "for kk, vv in df.iterrows():\n",
    "    for i in years:\n",
    "        obj = gen_year(vv.State, vv.County, i)\n",
    "        generated.append(obj)"
   ]
  },
  {
   "cell_type": "code",
   "execution_count": 37,
   "metadata": {},
   "outputs": [],
   "source": [
    "output = pd.DataFrame.from_records(generated)\n",
    "output = output[['Year','State','County','Population','Rainfall','Infrastructure']]"
   ]
  },
  {
   "cell_type": "code",
   "execution_count": 43,
   "metadata": {},
   "outputs": [],
   "source": [
    "output.to_csv('~/Desktop/South_Sudan_Regional_Report.csv', index=False)"
   ]
  },
  {
   "cell_type": "markdown",
   "metadata": {},
   "source": [
    "# Checking"
   ]
  },
  {
   "cell_type": "code",
   "execution_count": 44,
   "metadata": {},
   "outputs": [],
   "source": [
    "rain = pd.DataFrame(output.groupby('County').Rainfall.mean())\n",
    "pop = pd.DataFrame(output.groupby('County').Population.mean())\n",
    "pop = pop.reset_index()\n",
    "pop = pop.set_index('County')"
   ]
  },
  {
   "cell_type": "code",
   "execution_count": 53,
   "metadata": {},
   "outputs": [],
   "source": [
    "rain = rain.reset_index().sort_values('Rainfall',ascending=False)\n",
    "comb = rain.join(pop, on='County')"
   ]
  },
  {
   "cell_type": "code",
   "execution_count": 59,
   "metadata": {},
   "outputs": [
    {
     "data": {
      "text/html": [
       "<div>\n",
       "<style scoped>\n",
       "    .dataframe tbody tr th:only-of-type {\n",
       "        vertical-align: middle;\n",
       "    }\n",
       "\n",
       "    .dataframe tbody tr th {\n",
       "        vertical-align: top;\n",
       "    }\n",
       "\n",
       "    .dataframe thead th {\n",
       "        text-align: right;\n",
       "    }\n",
       "</style>\n",
       "<table border=\"1\" class=\"dataframe\">\n",
       "  <thead>\n",
       "    <tr style=\"text-align: right;\">\n",
       "      <th></th>\n",
       "      <th>Population</th>\n",
       "    </tr>\n",
       "  </thead>\n",
       "  <tbody>\n",
       "    <tr>\n",
       "      <th>count</th>\n",
       "      <td>45.000000</td>\n",
       "    </tr>\n",
       "    <tr>\n",
       "      <th>mean</th>\n",
       "      <td>306824.942690</td>\n",
       "    </tr>\n",
       "    <tr>\n",
       "      <th>std</th>\n",
       "      <td>138268.736980</td>\n",
       "    </tr>\n",
       "    <tr>\n",
       "      <th>min</th>\n",
       "      <td>11653.368421</td>\n",
       "    </tr>\n",
       "    <tr>\n",
       "      <th>25%</th>\n",
       "      <td>184626.578947</td>\n",
       "    </tr>\n",
       "    <tr>\n",
       "      <th>50%</th>\n",
       "      <td>326722.052632</td>\n",
       "    </tr>\n",
       "    <tr>\n",
       "      <th>75%</th>\n",
       "      <td>429908.315789</td>\n",
       "    </tr>\n",
       "    <tr>\n",
       "      <th>max</th>\n",
       "      <td>505202.526316</td>\n",
       "    </tr>\n",
       "  </tbody>\n",
       "</table>\n",
       "</div>"
      ],
      "text/plain": [
       "          Population\n",
       "count      45.000000\n",
       "mean   306824.942690\n",
       "std    138268.736980\n",
       "min     11653.368421\n",
       "25%    184626.578947\n",
       "50%    326722.052632\n",
       "75%    429908.315789\n",
       "max    505202.526316"
      ]
     },
     "execution_count": 59,
     "metadata": {},
     "output_type": "execute_result"
    }
   ],
   "source": [
    "pop.describe()"
   ]
  },
  {
   "cell_type": "code",
   "execution_count": 54,
   "metadata": {},
   "outputs": [
    {
     "data": {
      "text/html": [
       "<div>\n",
       "<style scoped>\n",
       "    .dataframe tbody tr th:only-of-type {\n",
       "        vertical-align: middle;\n",
       "    }\n",
       "\n",
       "    .dataframe tbody tr th {\n",
       "        vertical-align: top;\n",
       "    }\n",
       "\n",
       "    .dataframe thead th {\n",
       "        text-align: right;\n",
       "    }\n",
       "</style>\n",
       "<table border=\"1\" class=\"dataframe\">\n",
       "  <thead>\n",
       "    <tr style=\"text-align: right;\">\n",
       "      <th></th>\n",
       "      <th>index</th>\n",
       "      <th>Rainfall</th>\n",
       "    </tr>\n",
       "  </thead>\n",
       "  <tbody>\n",
       "    <tr>\n",
       "      <th>count</th>\n",
       "      <td>45.000000</td>\n",
       "      <td>45.000000</td>\n",
       "    </tr>\n",
       "    <tr>\n",
       "      <th>mean</th>\n",
       "      <td>22.000000</td>\n",
       "      <td>42.405719</td>\n",
       "    </tr>\n",
       "    <tr>\n",
       "      <th>std</th>\n",
       "      <td>13.133926</td>\n",
       "      <td>20.033611</td>\n",
       "    </tr>\n",
       "    <tr>\n",
       "      <th>min</th>\n",
       "      <td>0.000000</td>\n",
       "      <td>6.586316</td>\n",
       "    </tr>\n",
       "    <tr>\n",
       "      <th>25%</th>\n",
       "      <td>11.000000</td>\n",
       "      <td>25.546316</td>\n",
       "    </tr>\n",
       "    <tr>\n",
       "      <th>50%</th>\n",
       "      <td>22.000000</td>\n",
       "      <td>43.703158</td>\n",
       "    </tr>\n",
       "    <tr>\n",
       "      <th>75%</th>\n",
       "      <td>33.000000</td>\n",
       "      <td>58.198947</td>\n",
       "    </tr>\n",
       "    <tr>\n",
       "      <th>max</th>\n",
       "      <td>44.000000</td>\n",
       "      <td>74.537895</td>\n",
       "    </tr>\n",
       "  </tbody>\n",
       "</table>\n",
       "</div>"
      ],
      "text/plain": [
       "           index   Rainfall\n",
       "count  45.000000  45.000000\n",
       "mean   22.000000  42.405719\n",
       "std    13.133926  20.033611\n",
       "min     0.000000   6.586316\n",
       "25%    11.000000  25.546316\n",
       "50%    22.000000  43.703158\n",
       "75%    33.000000  58.198947\n",
       "max    44.000000  74.537895"
      ]
     },
     "execution_count": 54,
     "metadata": {},
     "output_type": "execute_result"
    }
   ],
   "source": [
    "rain.describe()"
   ]
  },
  {
   "cell_type": "code",
   "execution_count": 56,
   "metadata": {},
   "outputs": [
    {
     "data": {
      "text/plain": [
       "Population    306824.94269\n",
       "dtype: float64"
      ]
     },
     "execution_count": 56,
     "metadata": {},
     "output_type": "execute_result"
    }
   ],
   "source": [
    "pop.mean()"
   ]
  },
  {
   "cell_type": "code",
   "execution_count": 62,
   "metadata": {},
   "outputs": [
    {
     "data": {
      "text/html": [
       "<div>\n",
       "<style scoped>\n",
       "    .dataframe tbody tr th:only-of-type {\n",
       "        vertical-align: middle;\n",
       "    }\n",
       "\n",
       "    .dataframe tbody tr th {\n",
       "        vertical-align: top;\n",
       "    }\n",
       "\n",
       "    .dataframe thead th {\n",
       "        text-align: right;\n",
       "    }\n",
       "</style>\n",
       "<table border=\"1\" class=\"dataframe\">\n",
       "  <thead>\n",
       "    <tr style=\"text-align: right;\">\n",
       "      <th></th>\n",
       "      <th>index</th>\n",
       "      <th>County</th>\n",
       "      <th>Rainfall</th>\n",
       "      <th>Population</th>\n",
       "    </tr>\n",
       "  </thead>\n",
       "  <tbody>\n",
       "    <tr>\n",
       "      <th>0</th>\n",
       "      <td>3</td>\n",
       "      <td>Al Mayom</td>\n",
       "      <td>74.537895</td>\n",
       "      <td>332068.526316</td>\n",
       "    </tr>\n",
       "    <tr>\n",
       "      <th>5</th>\n",
       "      <td>14</td>\n",
       "      <td>Faring</td>\n",
       "      <td>66.633158</td>\n",
       "      <td>429908.315789</td>\n",
       "    </tr>\n",
       "    <tr>\n",
       "      <th>7</th>\n",
       "      <td>5</td>\n",
       "      <td>Aliab</td>\n",
       "      <td>66.040000</td>\n",
       "      <td>475447.263158</td>\n",
       "    </tr>\n",
       "    <tr>\n",
       "      <th>8</th>\n",
       "      <td>8</td>\n",
       "      <td>Aweil</td>\n",
       "      <td>65.281053</td>\n",
       "      <td>320670.684211</td>\n",
       "    </tr>\n",
       "    <tr>\n",
       "      <th>9</th>\n",
       "      <td>43</td>\n",
       "      <td>Yambio</td>\n",
       "      <td>62.215263</td>\n",
       "      <td>446042.052632</td>\n",
       "    </tr>\n",
       "    <tr>\n",
       "      <th>10</th>\n",
       "      <td>1</td>\n",
       "      <td>Al Leiri</td>\n",
       "      <td>61.028421</td>\n",
       "      <td>345999.631579</td>\n",
       "    </tr>\n",
       "    <tr>\n",
       "      <th>11</th>\n",
       "      <td>28</td>\n",
       "      <td>Pibor</td>\n",
       "      <td>58.198947</td>\n",
       "      <td>318153.315789</td>\n",
       "    </tr>\n",
       "  </tbody>\n",
       "</table>\n",
       "</div>"
      ],
      "text/plain": [
       "    index    County   Rainfall     Population\n",
       "0       3  Al Mayom  74.537895  332068.526316\n",
       "5      14    Faring  66.633158  429908.315789\n",
       "7       5     Aliab  66.040000  475447.263158\n",
       "8       8     Aweil  65.281053  320670.684211\n",
       "9      43    Yambio  62.215263  446042.052632\n",
       "10      1  Al Leiri  61.028421  345999.631579\n",
       "11     28     Pibor  58.198947  318153.315789"
      ]
     },
     "execution_count": 62,
     "metadata": {},
     "output_type": "execute_result"
    }
   ],
   "source": [
    "comb[(comb['Rainfall'] > 58) & (comb['Population'] > 306824)]"
   ]
  },
  {
   "cell_type": "code",
   "execution_count": 63,
   "metadata": {},
   "outputs": [
    {
     "data": {
      "text/html": [
       "<div>\n",
       "<style scoped>\n",
       "    .dataframe tbody tr th:only-of-type {\n",
       "        vertical-align: middle;\n",
       "    }\n",
       "\n",
       "    .dataframe tbody tr th {\n",
       "        vertical-align: top;\n",
       "    }\n",
       "\n",
       "    .dataframe thead th {\n",
       "        text-align: right;\n",
       "    }\n",
       "</style>\n",
       "<table border=\"1\" class=\"dataframe\">\n",
       "  <thead>\n",
       "    <tr style=\"text-align: right;\">\n",
       "      <th></th>\n",
       "      <th>index</th>\n",
       "      <th>County</th>\n",
       "      <th>Rainfall</th>\n",
       "      <th>Population</th>\n",
       "    </tr>\n",
       "  </thead>\n",
       "  <tbody>\n",
       "    <tr>\n",
       "      <th>0</th>\n",
       "      <td>3</td>\n",
       "      <td>Al Mayom</td>\n",
       "      <td>74.537895</td>\n",
       "      <td>332068.526316</td>\n",
       "    </tr>\n",
       "    <tr>\n",
       "      <th>1</th>\n",
       "      <td>38</td>\n",
       "      <td>Tonj</td>\n",
       "      <td>72.904737</td>\n",
       "      <td>118722.526316</td>\n",
       "    </tr>\n",
       "    <tr>\n",
       "      <th>2</th>\n",
       "      <td>39</td>\n",
       "      <td>Wanjuk</td>\n",
       "      <td>70.757368</td>\n",
       "      <td>147946.684211</td>\n",
       "    </tr>\n",
       "    <tr>\n",
       "      <th>3</th>\n",
       "      <td>25</td>\n",
       "      <td>Nahr Atiem</td>\n",
       "      <td>67.845263</td>\n",
       "      <td>206266.842105</td>\n",
       "    </tr>\n",
       "    <tr>\n",
       "      <th>4</th>\n",
       "      <td>40</td>\n",
       "      <td>Warab</td>\n",
       "      <td>67.703684</td>\n",
       "      <td>135769.526316</td>\n",
       "    </tr>\n",
       "    <tr>\n",
       "      <th>5</th>\n",
       "      <td>14</td>\n",
       "      <td>Faring</td>\n",
       "      <td>66.633158</td>\n",
       "      <td>429908.315789</td>\n",
       "    </tr>\n",
       "    <tr>\n",
       "      <th>6</th>\n",
       "      <td>44</td>\n",
       "      <td>Yerol</td>\n",
       "      <td>66.050000</td>\n",
       "      <td>150317.105263</td>\n",
       "    </tr>\n",
       "    <tr>\n",
       "      <th>7</th>\n",
       "      <td>5</td>\n",
       "      <td>Aliab</td>\n",
       "      <td>66.040000</td>\n",
       "      <td>475447.263158</td>\n",
       "    </tr>\n",
       "    <tr>\n",
       "      <th>8</th>\n",
       "      <td>8</td>\n",
       "      <td>Aweil</td>\n",
       "      <td>65.281053</td>\n",
       "      <td>320670.684211</td>\n",
       "    </tr>\n",
       "    <tr>\n",
       "      <th>9</th>\n",
       "      <td>43</td>\n",
       "      <td>Yambio</td>\n",
       "      <td>62.215263</td>\n",
       "      <td>446042.052632</td>\n",
       "    </tr>\n",
       "    <tr>\n",
       "      <th>10</th>\n",
       "      <td>1</td>\n",
       "      <td>Al Leiri</td>\n",
       "      <td>61.028421</td>\n",
       "      <td>345999.631579</td>\n",
       "    </tr>\n",
       "    <tr>\n",
       "      <th>11</th>\n",
       "      <td>28</td>\n",
       "      <td>Pibor</td>\n",
       "      <td>58.198947</td>\n",
       "      <td>318153.315789</td>\n",
       "    </tr>\n",
       "  </tbody>\n",
       "</table>\n",
       "</div>"
      ],
      "text/plain": [
       "    index      County   Rainfall     Population\n",
       "0       3    Al Mayom  74.537895  332068.526316\n",
       "1      38        Tonj  72.904737  118722.526316\n",
       "2      39      Wanjuk  70.757368  147946.684211\n",
       "3      25  Nahr Atiem  67.845263  206266.842105\n",
       "4      40       Warab  67.703684  135769.526316\n",
       "5      14      Faring  66.633158  429908.315789\n",
       "6      44       Yerol  66.050000  150317.105263\n",
       "7       5       Aliab  66.040000  475447.263158\n",
       "8       8       Aweil  65.281053  320670.684211\n",
       "9      43      Yambio  62.215263  446042.052632\n",
       "10      1    Al Leiri  61.028421  345999.631579\n",
       "11     28       Pibor  58.198947  318153.315789"
      ]
     },
     "execution_count": 63,
     "metadata": {},
     "output_type": "execute_result"
    }
   ],
   "source": [
    "comb[(comb['Rainfall'] > 58)]"
   ]
  },
  {
   "cell_type": "code",
   "execution_count": null,
   "metadata": {},
   "outputs": [],
   "source": []
  }
 ],
 "metadata": {
  "kernelspec": {
   "display_name": "Python 3",
   "language": "python",
   "name": "python3"
  },
  "language_info": {
   "codemirror_mode": {
    "name": "ipython",
    "version": 3
   },
   "file_extension": ".py",
   "mimetype": "text/x-python",
   "name": "python",
   "nbconvert_exporter": "python",
   "pygments_lexer": "ipython3",
   "version": "3.7.1"
  }
 },
 "nbformat": 4,
 "nbformat_minor": 2
}
