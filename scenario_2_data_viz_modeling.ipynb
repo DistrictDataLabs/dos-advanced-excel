{
 "cells": [
  {
   "cell_type": "markdown",
   "metadata": {},
   "source": [
    "# Scenario 2 Data Creation\n",
    "This notebook creates datasets to be used in Scenario 2."
   ]
  },
  {
   "cell_type": "code",
   "execution_count": 32,
   "metadata": {},
   "outputs": [
    {
     "name": "stdout",
     "output_type": "stream",
     "text": [
      "Populating the interactive namespace from numpy and matplotlib\n"
     ]
    }
   ],
   "source": [
    "%pylab inline"
   ]
  },
  {
   "cell_type": "code",
   "execution_count": 85,
   "metadata": {},
   "outputs": [],
   "source": [
    "import pandas as pd\n",
    "import random\n",
    "from datetime import datetime, timedelta\n",
    "import numpy as np"
   ]
  },
  {
   "cell_type": "code",
   "execution_count": 552,
   "metadata": {},
   "outputs": [],
   "source": [
    "def gen_day(day):\n",
    "    startdate = datetime(year=2018,month=1,day=1)\n",
    "    Date = startdate+timedelta(day)\n",
    "    Date = Date.strftime('%m-%d-%Y')\n",
    "    \n",
    "    tweets = random.randint(1,10)\n",
    "    tweet_likes = round(tweets**(1.3+random.randint(0,300)/1000),0)\n",
    "    retweets = round((tweets*(random.random() + random.randint(0,3))) + random.randint(0,500),0)\n",
    "    \n",
    "    facebook = random.randint(1,6)\n",
    "    facebook_likes = round(facebook**(2+(random.randint(1,300)/1000)),0)\n",
    "    facebook_shares = round(facebook*(2+(random.randint(1,3)/5)),0)\n",
    "    \n",
    "    instagram = random.randint(2,9)\n",
    "    instagram_likes = round(instagram + random.randint(85,100)*(np.log10(instagram)),0)\n",
    "    instagram_likes = random.randint(42,48)*np.log10(instagram) # + 50*instagram \n",
    "    \n",
    "    day = {'Date': Date,\n",
    "           'Tweets': tweets,\n",
    "           'Tweet Likes': int(tweet_likes),\n",
    "           'Retweets': int(retweets),\n",
    "           'Facebook Posts': facebook,\n",
    "           'Facebook Likes': int(facebook_likes),\n",
    "           'Facebook Shares': int(facebook_shares),\n",
    "           'Instagram Posts': instagram,\n",
    "           'Instagram Likes': int(instagram_likes)}\n",
    "\n",
    "    return day"
   ]
  },
  {
   "cell_type": "code",
   "execution_count": 553,
   "metadata": {},
   "outputs": [],
   "source": [
    "days = []\n",
    "for i in range(0,365):\n",
    "    days.append(gen_day(i))"
   ]
  },
  {
   "cell_type": "code",
   "execution_count": 554,
   "metadata": {},
   "outputs": [],
   "source": [
    "df = pd.DataFrame.from_records(days)"
   ]
  },
  {
   "cell_type": "code",
   "execution_count": 555,
   "metadata": {},
   "outputs": [
    {
     "name": "stdout",
     "output_type": "stream",
     "text": [
      "2\n",
      "7.994994390238836\n",
      "15.989988780477672\n",
      "3\n",
      "7.036810508691616\n",
      "21.110431526074848\n",
      "4\n",
      "6.7092497400107645\n",
      "26.836998960043058\n",
      "5\n",
      "5.659511912276914\n",
      "28.297559561384567\n",
      "6\n",
      "5.325058088609544\n",
      "31.950348531657262\n",
      "7\n",
      "4.8967897398311\n",
      "34.277528178817704\n",
      "8\n",
      "4.508626333131905\n",
      "36.06901066505524\n",
      "9\n",
      "4.066141403701583\n",
      "36.59527263331425\n"
     ]
    }
   ],
   "source": [
    "for i in range(2,10):\n",
    "    m = df[df['Instagram Posts'] == i]['Instagram Likes'].describe().mean()\n",
    "    ratio = m/i\n",
    "    print(i)\n",
    "    print(ratio)\n",
    "    print(m)"
   ]
  },
  {
   "cell_type": "code",
   "execution_count": 556,
   "metadata": {},
   "outputs": [
    {
     "data": {
      "text/plain": [
       "<matplotlib.axes._subplots.AxesSubplot at 0x12eb89278>"
      ]
     },
     "execution_count": 556,
     "metadata": {},
     "output_type": "execute_result"
    },
    {
     "data": {
      "image/png": "[encoded data removed]",
      "text/plain": [
       "<matplotlib.figure.Figure at 0x12eafb358>"
      ]
     },
     "metadata": {
      "needs_background": "light"
     },
     "output_type": "display_data"
    }
   ],
   "source": [
    "df.plot.scatter('Instagram Posts','Instagram Likes')"
   ]
  },
  {
   "cell_type": "code",
   "execution_count": 557,
   "metadata": {},
   "outputs": [
    {
     "data": {
      "text/plain": [
       "<matplotlib.axes._subplots.AxesSubplot at 0x12ec4c1d0>"
      ]
     },
     "execution_count": 557,
     "metadata": {},
     "output_type": "execute_result"
    },
    {
     "data": {
      "image/png": "[encoded data removed]",
      "text/plain": [
       "<matplotlib.figure.Figure at 0x12ec28f60>"
      ]
     },
     "metadata": {
      "needs_background": "light"
     },
     "output_type": "display_data"
    }
   ],
   "source": [
    "df.plot.scatter('Tweets','Tweet Likes')"
   ]
  },
  {
   "cell_type": "code",
   "execution_count": 558,
   "metadata": {},
   "outputs": [
    {
     "data": {
      "text/plain": [
       "<matplotlib.axes._subplots.AxesSubplot at 0x12ed5c780>"
      ]
     },
     "execution_count": 558,
     "metadata": {},
     "output_type": "execute_result"
    },
    {
     "data": {
      "image/png": "[encoded data removed]",
      "text/plain": [
       "<matplotlib.figure.Figure at 0x12e448390>"
      ]
     },
     "metadata": {
      "needs_background": "light"
     },
     "output_type": "display_data"
    }
   ],
   "source": [
    "df.plot.scatter('Facebook Posts','Facebook Likes')"
   ]
  },
  {
   "cell_type": "code",
   "execution_count": 542,
   "metadata": {},
   "outputs": [],
   "source": [
    "df.to_csv('../Class Files/Scenario 2/Online_Engagement_2018.csv', index=False)"
   ]
  },
  {
   "cell_type": "code",
   "execution_count": 543,
   "metadata": {},
   "outputs": [
    {
     "data": {
      "text/plain": [
       "count    365.000000\n",
       "mean      30.767123\n",
       "std        9.656633\n",
       "min       12.000000\n",
       "25%       25.000000\n",
       "50%       33.000000\n",
       "75%       38.000000\n",
       "max       45.000000\n",
       "Name: Instagram Likes, dtype: float64"
      ]
     },
     "execution_count": 543,
     "metadata": {},
     "output_type": "execute_result"
    }
   ],
   "source": [
    "df['Instagram Likes'].describe()"
   ]
  },
  {
   "cell_type": "code",
   "execution_count": 530,
   "metadata": {
    "scrolled": true
   },
   "outputs": [
    {
     "data": {
      "text/plain": [
       "count    365.000000\n",
       "mean      18.306849\n",
       "std       15.958190\n",
       "min        1.000000\n",
       "25%        4.000000\n",
       "50%       11.000000\n",
       "75%       31.000000\n",
       "max       59.000000\n",
       "Name: Facebook Likes, dtype: float64"
      ]
     },
     "execution_count": 530,
     "metadata": {},
     "output_type": "execute_result"
    }
   ],
   "source": [
    "df['Facebook Likes'].describe()"
   ]
  },
  {
   "cell_type": "code",
   "execution_count": 531,
   "metadata": {
    "scrolled": true
   },
   "outputs": [
    {
     "data": {
      "text/plain": [
       "count    365.000000\n",
       "mean      14.038356\n",
       "std        9.245947\n",
       "min        1.000000\n",
       "25%        6.000000\n",
       "50%       13.000000\n",
       "75%       21.000000\n",
       "max       40.000000\n",
       "Name: Tweet Likes, dtype: float64"
      ]
     },
     "execution_count": 531,
     "metadata": {},
     "output_type": "execute_result"
    }
   ],
   "source": [
    "df['Tweet Likes'].describe()"
   ]
  },
  {
   "cell_type": "code",
   "execution_count": 560,
   "metadata": {},
   "outputs": [],
   "source": [
    "df['Total'] = df['Facebook Posts'] + df['Instagram Posts'] + df['Tweets']"
   ]
  },
  {
   "cell_type": "code",
   "execution_count": 561,
   "metadata": {},
   "outputs": [
    {
     "data": {
      "text/plain": [
       "count    365.000000\n",
       "mean      14.358904\n",
       "std        4.059307\n",
       "min        4.000000\n",
       "25%       12.000000\n",
       "50%       14.000000\n",
       "75%       17.000000\n",
       "max       24.000000\n",
       "Name: Total, dtype: float64"
      ]
     },
     "execution_count": 561,
     "metadata": {},
     "output_type": "execute_result"
    }
   ],
   "source": [
    "df.Total.describe()"
   ]
  },
  {
   "cell_type": "code",
   "execution_count": 563,
   "metadata": {},
   "outputs": [
    {
     "data": {
      "text/plain": [
       "15"
      ]
     },
     "execution_count": 563,
     "metadata": {},
     "output_type": "execute_result"
    }
   ],
   "source": [
    "5*3"
   ]
  },
  {
   "cell_type": "code",
   "execution_count": null,
   "metadata": {},
   "outputs": [],
   "source": []
  }
 ],
 "metadata": {
  "kernelspec": {
   "display_name": "Python 3",
   "language": "python",
   "name": "python3"
  },
  "language_info": {
   "codemirror_mode": {
    "name": "ipython",
    "version": 3
   },
   "file_extension": ".py",
   "mimetype": "text/x-python",
   "name": "python",
   "nbconvert_exporter": "python",
   "pygments_lexer": "ipython3",
   "version": "3.5.3"
  }
 },
 "nbformat": 4,
 "nbformat_minor": 2
}
